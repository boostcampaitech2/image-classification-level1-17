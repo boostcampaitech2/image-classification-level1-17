{
 "cells": [
  {
   "cell_type": "code",
   "execution_count": 1,
   "id": "f2ab8205-505c-4c42-8e95-7cf484a5dc13",
   "metadata": {},
   "outputs": [],
   "source": [
    "import torch\n",
    "import torch.nn as nn\n",
    "import torch.nn.functional as F\n",
    "\n",
    "import albumentations\n",
    "import albumentations.pytorch\n",
    "\n",
    "from mask_dataset import MaskDataset, get_transforms\n",
    "from torch.utils.data import Dataset, DataLoader, random_split"
   ]
  },
  {
   "cell_type": "code",
   "execution_count": 2,
   "id": "0cadb5ce-9ece-40a5-8cc6-3ded51616037",
   "metadata": {},
   "outputs": [],
   "source": [
    "train_dir = '/opt/ml/input/data/train'"
   ]
  },
  {
   "cell_type": "code",
   "execution_count": null,
   "id": "f37e6d5e-f65b-4c49-9d57-21c923e51b77",
   "metadata": {},
   "outputs": [],
   "source": [
    "def bottleneck_block(in_dim, mid_dim, out_dim, down=False):\n",
    "    layers = []\n",
    "    if down:\n",
    "        layers.append(nn.Conv2d(in_dim, mid_dim, kernel_size=1, stride=2, padding=0))\n",
    "    else:\n",
    "        layers.append(nn.Conv2d(in_dim, mid_dim, kernel_size=1, stride=1, padding=0))\n",
    "    layers.extend([\n",
    "        nn.BatchNorm2d(mid_dim),\n",
    "        nn.ReLU(inplace=True),\n",
    "        nn.Conv2d(mid_dim, mid_dim, kernel_size=3, stride=1, padding=1),\n",
    "        nn.BatchNorm2d(mid_dim),\n",
    "        nn.ReLU(inplace=True),\n",
    "        nn.Conv2d(mid_dim, out_dim, kernel_size=1, stride=1, padding=0),\n",
    "        nn.BatchNorm2d(out_dim),\n",
    "    ])\n",
    "    return nn.Sequential(*layers)\n",
    "\n",
    " \n",
    "\n",
    "class Bottleneck(nn.Module):\n",
    "    def __init__(self, in_dim, mid_dim, out_dim, down:bool = False, starting:bool=False) -> None:\n",
    "        super(Bottleneck, self).__init__()\n",
    "        if starting:\n",
    "            down = False\n",
    "        self.block = bottleneck_block(in_dim, mid_dim, out_dim, down=down)\n",
    "        self.relu = nn.ReLU(inplace=True)\n",
    "        if down:\n",
    "            conn_layer = nn.Conv2d(in_dim, out_dim, kernel_size=1, stride=2, padding=0), # size 줄어듬\n",
    "        else:\n",
    "            conn_layer = nn.Conv2d(in_dim, out_dim, kernel_size=1, stride=1, padding=0), # size 줄어들지 않음\n",
    "\n",
    "        self.changedim = nn.Sequential(conn_layer, nn.BatchNorm2d(out_dim))\n",
    "\n",
    "    def forward(self, x):\n",
    "        identity = self.changedim(x)\n",
    "        x = self.block(x)\n",
    "        x += identity\n",
    "        x = self.relu(x)\n",
    "        return x"
   ]
  },
  {
   "cell_type": "code",
   "execution_count": null,
   "id": "61c0f05b-71e8-483e-917a-0fc8e10a1136",
   "metadata": {},
   "outputs": [],
   "source": [
    "def make_layer(in_dim, mid_dim, out_dim, repeats, starting=False):\n",
    "    layers = []\n",
    "    layers.append(Bottleneck(in_dim, mid_dim, out_dim, down=True, starting=starting))\n",
    "    for _ in range(1, repeats):\n",
    "        layers.append(Bottleneck(out_dim, mid_dim, out_dim, down=False))\n",
    "    return nn.Sequential(*layers)"
   ]
  },
  {
   "cell_type": "code",
   "execution_count": 71,
   "id": "edb31b04-c78a-4f7e-9305-3868bc4a293a",
   "metadata": {},
   "outputs": [],
   "source": [
    "class MyModel(nn.Module):\n",
    "    def __init__(self, dim=32, repeats=[1,2,8,8,4], num_classes=1000):\n",
    "        super(MyModel, self).__init__()\n",
    "        self.conv1 = nn.Conv2d(3, dim, kernel_size=3, stride=1)\n",
    "        self.relu = nn.ReLU(inplace=True)\n",
    "        \n",
    "#         self.maxpool = nn.MaxPool2d(kernel_size=3, stride=2, padding=1)\n",
    "        self.layer1 = self.make_layer(dim, 64, layers[0])\n",
    "        self.layer2 = self.make_layer(dim, 128, layers[1], stride=2, dilate=replace_stride_with_dilation[0])\n",
    "        self.layer3 = self.make_layer(dim, 256, layers[2], stride=2, dilate=replace_stride_with_dilation[1])\n",
    "        self.layer4 = self.make_layer(dim, 512, layers[3], stride=2, dilate=replace_stride_with_dilation[2])\n",
    "        self.avgpool = nn.AdaptiveAvgPool2d((1, 1))\n",
    "        self.fc = nn.Linear(512 * block.expansion, num_classes)\n",
    "        \n",
    "    def forward(self, x):\n",
    "        x = F.relu(self.conv1(x))\n",
    "        return F.relu(self.conv2(x))"
   ]
  },
  {
   "cell_type": "code",
   "execution_count": 72,
   "id": "2bf8b56d-c3d5-44be-a05d-75c294ecc4a3",
   "metadata": {},
   "outputs": [
    {
     "name": "stdout",
     "output_type": "stream",
     "text": [
      "MyModel(\n",
      "  (conv1): Conv2d(3, 32, kernel_size=(3, 3), stride=(1, 1))\n",
      "  (conv2): Conv2d(32, 64, kernel_size=(3, 3), stride=(1, 1))\n",
      ")\n"
     ]
    }
   ],
   "source": [
    "a = MyModel()\n",
    "print(a)"
   ]
  },
  {
   "cell_type": "code",
   "execution_count": 73,
   "id": "c0cb3ac1-26ad-4ac2-8f6e-b46c4aa8705e",
   "metadata": {},
   "outputs": [
    {
     "data": {
      "text/plain": [
       "[MyModel(\n",
       "   (conv1): Conv2d(3, 32, kernel_size=(3, 3), stride=(1, 1))\n",
       "   (conv2): Conv2d(32, 64, kernel_size=(3, 3), stride=(1, 1))\n",
       " ),\n",
       " Conv2d(3, 32, kernel_size=(3, 3), stride=(1, 1)),\n",
       " Conv2d(32, 64, kernel_size=(3, 3), stride=(1, 1))]"
      ]
     },
     "execution_count": 73,
     "metadata": {},
     "output_type": "execute_result"
    }
   ],
   "source": [
    "list(a.modules())"
   ]
  },
  {
   "cell_type": "code",
   "execution_count": 74,
   "id": "4d005267-34cd-43a3-bb5c-0a705d915e2d",
   "metadata": {},
   "outputs": [
    {
     "data": {
      "text/plain": [
       "torch.Size([1, 64, 252, 252])"
      ]
     },
     "execution_count": 74,
     "metadata": {},
     "output_type": "execute_result"
    }
   ],
   "source": [
    "x = torch.rand((1,3,256,256))\n",
    "y = a(x)\n",
    "y.shape"
   ]
  },
  {
   "cell_type": "code",
   "execution_count": 60,
   "id": "d525da44-348e-4068-9945-fce153b0c530",
   "metadata": {},
   "outputs": [
    {
     "data": {
      "text/plain": [
       "odict_keys(['conv1.weight', 'conv1.bias', 'conv2.weight', 'conv2.bias'])"
      ]
     },
     "execution_count": 60,
     "metadata": {},
     "output_type": "execute_result"
    }
   ],
   "source": [
    "sd = a.state_dict()\n",
    "sd.keys()"
   ]
  },
  {
   "cell_type": "code",
   "execution_count": 61,
   "id": "f0f4414e-f6ca-42f8-9c07-b08876603001",
   "metadata": {},
   "outputs": [],
   "source": [
    "params = list(a.parameters())"
   ]
  },
  {
   "cell_type": "code",
   "execution_count": 68,
   "id": "8e194233-d82b-48bd-8101-1fc24b1b80f2",
   "metadata": {},
   "outputs": [
    {
     "data": {
      "text/plain": [
       "True"
      ]
     },
     "execution_count": 68,
     "metadata": {},
     "output_type": "execute_result"
    }
   ],
   "source": [
    "params[0].requires_grad"
   ]
  },
  {
   "cell_type": "code",
   "execution_count": 70,
   "id": "60fc57c7-30f7-4e32-b4c9-bd8d04fb737e",
   "metadata": {},
   "outputs": [
    {
     "data": {
      "text/plain": [
       "4"
      ]
     },
     "execution_count": 70,
     "metadata": {},
     "output_type": "execute_result"
    }
   ],
   "source": [
    "len(params)"
   ]
  }
 ],
 "metadata": {
  "kernelspec": {
   "display_name": "Python 3 (ipykernel)",
   "language": "python",
   "name": "python3"
  },
  "language_info": {
   "codemirror_mode": {
    "name": "ipython",
    "version": 3
   },
   "file_extension": ".py",
   "mimetype": "text/x-python",
   "name": "python",
   "nbconvert_exporter": "python",
   "pygments_lexer": "ipython3",
   "version": "3.8.5"
  }
 },
 "nbformat": 4,
 "nbformat_minor": 5
}
