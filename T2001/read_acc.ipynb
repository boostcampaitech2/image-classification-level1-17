{
 "cells": [
  {
   "cell_type": "code",
   "execution_count": 1,
   "source": [
    "import pickle\n",
    "import os\n",
    "\n",
    "from pathlib import Path\n",
    "\n",
    "best_path='/opt/ml/image-classification-level1-17/T2001/model'\n",
    "\n",
    "filenames = os.listdir(best_path)\n",
    "for filename in filenames:\n",
    "  filepath = f\"{best_path}/{filename}/best.pickle\"\n",
    "  if(Path(filepath).exists()):\n",
    "    with open(f\"{best_path}/{filename}/best.pickle\",\"rb\") as fr:\n",
    "        best_list = pickle.load(fr)\n",
    "        best_val_acc = best_list[0]\n",
    "        best_val_loss = best_list[1]\n",
    "    print(f\"target = {filename}\\nbest_val_loss = {best_val_loss: 4.4}, best_val_acc = {best_val_acc: 4.4}\")"
   ],
   "outputs": [
    {
     "output_type": "stream",
     "name": "stdout",
     "text": [
      "target = OptunaSample\n",
      "best_val_loss =  0.2641, best_val_acc =  0.9058\n",
      "target = multilabel_dropout_IR\n",
      "best_val_loss =  5.325, best_val_acc =  0.9069\n",
      "target = MDIR_Adam_StepLR_Custom\n",
      "best_val_loss =  5.441, best_val_acc =  0.7767\n",
      "target = InceptionResnet\n",
      "best_val_loss =  5.32, best_val_acc =  0.9143\n"
     ]
    }
   ],
   "metadata": {}
  }
 ],
 "metadata": {
  "orig_nbformat": 4,
  "language_info": {
   "name": "python",
   "version": "3.8.5",
   "mimetype": "text/x-python",
   "codemirror_mode": {
    "name": "ipython",
    "version": 3
   },
   "pygments_lexer": "ipython3",
   "nbconvert_exporter": "python",
   "file_extension": ".py"
  },
  "kernelspec": {
   "name": "python3",
   "display_name": "Python 3.8.5 64-bit ('base': conda)"
  },
  "interpreter": {
   "hash": "98b0a9b7b4eaaa670588a142fd0a9b87eaafe866f1db4228be72b4211d12040f"
  }
 },
 "nbformat": 4,
 "nbformat_minor": 2
}