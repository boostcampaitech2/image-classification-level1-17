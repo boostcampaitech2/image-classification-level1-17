{
 "cells": [
  {
   "cell_type": "code",
   "execution_count": 25,
   "id": "69c455d3-29d9-42d9-bd44-6908613306ca",
   "metadata": {},
   "outputs": [],
   "source": [
    "import os\n",
    "from glob import glob\n",
    "from tqdm.auto import tqdm\n",
    "from pprint import pprint\n",
    "\n",
    "import numpy as np\n",
    "import pandas as pd\n",
    "import matplotlib.pyplot as plt\n",
    "from PIL import Image"
   ]
  },
  {
   "cell_type": "code",
   "execution_count": 3,
   "id": "93c9ec9c-9b0f-420c-93ca-1b6512da0a8e",
   "metadata": {},
   "outputs": [
    {
     "name": "stdout",
     "output_type": "stream",
     "text": [
      "       id  gender   race  age                    path\n",
      "0  000001  female  Asian   45  000001_female_Asian_45\n",
      "1  000002  female  Asian   52  000002_female_Asian_52\n",
      "2  000004    male  Asian   54    000004_male_Asian_54\n",
      "3  000005  female  Asian   58  000005_female_Asian_58\n",
      "4  000006  female  Asian   59  000006_female_Asian_59\n"
     ]
    }
   ],
   "source": [
    "# configuration\n",
    "data_dir = '/opt/ml/input/data/train'\n",
    "img_dir = f'{data_dir}/images'\n",
    "df_path = f'{data_dir}/train.csv'\n",
    "df = pd.read_csv(df_path)\n",
    "print(df.head())\n",
    "\n",
    "num2class = ['mask1', 'mask2', 'mask3', 'mask4', 'mask5',\n",
    "             'incorrect_mask', 'normal']\n",
    "class2num = {k : v for v, k in enumerate(num2class)}"
   ]
  },
  {
   "cell_type": "code",
   "execution_count": 4,
   "id": "5f4e923f-a76d-49f6-a065-5319855e37bf",
   "metadata": {},
   "outputs": [
    {
     "name": "stdout",
     "output_type": "stream",
     "text": [
      "2700\n"
     ]
    },
    {
     "data": {
      "text/plain": [
       "[]"
      ]
     },
     "execution_count": 4,
     "metadata": {},
     "output_type": "execute_result"
    }
   ],
   "source": [
    "# hidden folders in '/opt/ml/input/data/train'\n",
    "print(len(os.listdir(img_dir))) # 5400 folders, not 2700??\n",
    "glob(os.path.join(img_dir, '._*'))[:5]"
   ]
  },
  {
   "cell_type": "code",
   "execution_count": 5,
   "id": "53503815-1413-4e65-845c-5e39ba5dd46c",
   "metadata": {},
   "outputs": [
    {
     "data": {
      "text/plain": [
       "['mask3.jpg', 'incorrect_mask.jpg', 'mask5.jpg', 'normal.jpg', 'mask4.jpg']"
      ]
     },
     "execution_count": 5,
     "metadata": {},
     "output_type": "execute_result"
    }
   ],
   "source": [
    "# hidden files in each image folders\n",
    "os.listdir(glob(os.path.join(img_dir, '*'))[0])[:5]"
   ]
  },
  {
   "cell_type": "code",
   "execution_count": 6,
   "id": "9ab472f4-f300-4f0e-ac65-064b88e34243",
   "metadata": {},
   "outputs": [],
   "source": [
    "def delete_hidden(img_dir, img_ids):\n",
    "    # confirm deletion\n",
    "    answer = ''\n",
    "    while not answer.isalpha():\n",
    "        answer = input('Delete hidden?      [Y/n]')\n",
    "        if answer.lower() == 'y':\n",
    "            continue\n",
    "        elif answer.lower() == 'n':\n",
    "            print('End process')\n",
    "            return\n",
    "        else: answer = ''\n",
    "\n",
    "    # delete hidden folders\n",
    "    print('Deleting hidden folders...')\n",
    "    if glob(os.path.join(img_dir, '._*')):\n",
    "        for folder in tqdm(glob(os.path.join(img_dir, '._*'))):\n",
    "            os.remove(folder)\n",
    "    else: print('No hidden folder.')\n",
    "    \n",
    "    # delete hidden files\n",
    "    print('Deleting hidden files...')\n",
    "    for img_id in tqdm(img_ids):\n",
    "        if glob(os.path.join(img_dir, img_id, '._*')):\n",
    "            for file in glob(os.path.join(img_dir, img_id, '._*')):\n",
    "                os.remove(file)\n",
    "        else: continue\n",
    "    \n",
    "    print('Done')"
   ]
  },
  {
   "cell_type": "code",
   "execution_count": 7,
   "id": "227c8250-6997-4710-9529-652e5fc71448",
   "metadata": {},
   "outputs": [],
   "source": [
    "# delete_hidden(img_dir, df.path.values)"
   ]
  },
  {
   "cell_type": "code",
   "execution_count": 8,
   "id": "9e06ff9d-e546-4623-8937-71dc150164ba",
   "metadata": {},
   "outputs": [],
   "source": [
    "def unifying_extensions(img_dir, img_ids):\n",
    "    print('Unifying Extensions as .jpg')\n",
    "    \n",
    "    for img_id in tqdm(img_ids):\n",
    "        for filename in os.listdir(os.path.join(img_dir, img_id)):\n",
    "            # skip hidden files\n",
    "            if filename[:2] == '._':\n",
    "                continue\n",
    "            \n",
    "            # unifying extensions to .jpg\n",
    "            original_file = os.path.join(img_dir, img_id, filename)\n",
    "            if os.path.splitext(filename)[-1].lower() != '.jpg':\n",
    "                img = Image.open(original_file)\n",
    "                img.save(os.path.splitext(filename)[-1] + '.jpg')\n",
    "                os.remove(original_file)\n",
    "    print('Done')"
   ]
  },
  {
   "cell_type": "code",
   "execution_count": 14,
   "id": "04749f39-b9f0-49b7-8993-d27d68752fc4",
   "metadata": {},
   "outputs": [
    {
     "name": "stdout",
     "output_type": "stream",
     "text": [
      "Unifying Extensions as .jpg\n"
     ]
    },
    {
     "data": {
      "application/vnd.jupyter.widget-view+json": {
       "model_id": "ac273d3271384874af873712b72a1968",
       "version_major": 2,
       "version_minor": 0
      },
      "text/plain": [
       "HBox(children=(HTML(value=''), FloatProgress(value=0.0, max=2700.0), HTML(value='')))"
      ]
     },
     "metadata": {},
     "output_type": "display_data"
    },
    {
     "name": "stdout",
     "output_type": "stream",
     "text": [
      "\n",
      "Done\n"
     ]
    }
   ],
   "source": [
    "# unifying_extensions(img_dir, df.path.values)"
   ]
  },
  {
   "cell_type": "code",
   "execution_count": 11,
   "id": "d58c11db-839a-46ad-b1b5-fde0beaad001",
   "metadata": {
    "tags": []
   },
   "outputs": [],
   "source": [
    "# !pip install retina_face"
   ]
  },
  {
   "cell_type": "code",
   "execution_count": null,
   "id": "80e9b0d3-2c5e-4188-83e1-ecc9f2f1d4ae",
   "metadata": {},
   "outputs": [],
   "source": [
    "from retinaface import RetinaFace\n",
    "from albumentations import *"
   ]
  },
  {
   "cell_type": "code",
   "execution_count": 146,
   "id": "6f1c578c-e683-4b65-b66a-128389915d9f",
   "metadata": {},
   "outputs": [],
   "source": [
    "def detect_face(img_dir, img_ids):\n",
    "    x_padding = 10\n",
    "    y_padding = 20\n",
    "    for img_id in tqdm(img_ids, ncols=10):\n",
    "        for name in num2class:\n",
    "            img_file = os.path.join(img_dir, img_id, name+'.jpg')\n",
    "            img = Image.open(img_file)\n",
    "            bbox = RetinaFace.detect_faces(img_file)['face_1']['facial_area']\n",
    "            x_padding = int((bbox[1]-bbox[0])*0.2) + 15\n",
    "            y_padding = int((bbox[3]-bbox[2])*0.2)\n",
    "            x_min = max(bbox[0]-x_padding, 0)\n",
    "            y_min = max(bbox[1]-y_padding, 0)\n",
    "            x_max = min(bbox[2]+x_padding, 384)\n",
    "            y_max = min(bbox[3]+y_padding, 512)\n",
    "            box = (x_min, y_min, x_max, y_max)\n",
    "            cropped_img = img.crop(box=box)\n",
    "            cropped_img.save(os.path.join(img_dir, img_id, name+'Cropped.jpg') \n",
    "#             plt.imshow(cropped_img)\n",
    "#             plt.show()           "
   ]
  },
  {
   "cell_type": "code",
   "execution_count": null,
   "id": "b34cfb88-cd0e-4559-93c5-711a958e5361",
   "metadata": {},
   "outputs": [],
   "source": [
    "# detect_face(img_dir, df.path.values)"
   ]
  },
  {
   "cell_type": "code",
   "execution_count": null,
   "id": "6d3060d4-83fa-4933-8add-b530cb881c33",
   "metadata": {},
   "outputs": [],
   "source": []
  }
 ],
 "metadata": {
  "kernelspec": {
   "display_name": "Python 3",
   "language": "python",
   "name": "python3"
  },
  "language_info": {
   "codemirror_mode": {
    "name": "ipython",
    "version": 3
   },
   "file_extension": ".py",
   "mimetype": "text/x-python",
   "name": "python",
   "nbconvert_exporter": "python",
   "pygments_lexer": "ipython3",
   "version": "3.8.5"
  }
 },
 "nbformat": 4,
 "nbformat_minor": 5
}
